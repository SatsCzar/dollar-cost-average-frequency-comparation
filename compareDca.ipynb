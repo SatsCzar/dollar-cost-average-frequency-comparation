{
 "cells": [
  {
   "cell_type": "code",
   "execution_count": 1,
   "id": "f38fcef8",
   "metadata": {},
   "outputs": [],
   "source": [
    "import pandas as pd\n",
    "import numpy as np\n",
    "from calendar import monthrange\n",
    "import matplotlib.pyplot as plt\n",
    "import datetime"
   ]
  },
  {
   "cell_type": "code",
   "execution_count": 2,
   "id": "835f1fcc",
   "metadata": {},
   "outputs": [],
   "source": [
    "def buyBtc(btcPrice, amount):\n",
    "    return amount / btcPrice"
   ]
  },
  {
   "cell_type": "code",
   "execution_count": 3,
   "id": "bdfa1919",
   "metadata": {},
   "outputs": [],
   "source": [
    "btcPriceHistory = pd.read_csv(\"BTC_1h.csv\", parse_dates=False)\n",
    "btcPriceHistory['date'] = pd.to_datetime(btcPriceHistory['date'])\n",
    "\n",
    "def getBtcPrice(year, month, day):\n",
    "        startSearch = pd.to_datetime(f'{year}-{month}-{day} 09:00:00')\n",
    "        endSearch = pd.to_datetime(f'{year}-{month}-{day} 23:00:00')\n",
    "\n",
    "        filtered = btcPriceHistory[(btcPriceHistory['date'] >= startSearch) &\n",
    "                                   (btcPriceHistory['date'] <= endSearch)]\n",
    "\n",
    "        try:\n",
    "            return filtered.iloc[0]['close']\n",
    "        except:\n",
    "            startSearch = pd.to_datetime(\n",
    "                f'{year}-{month}-{day-1} 00:00:00')\n",
    "            endSearch = pd.to_datetime(\n",
    "                f'{year}-{month}-{day} 23:00:00')\n",
    "\n",
    "            filtered = btcPriceHistory[(btcPriceHistory['date'] >= startSearch) &\n",
    "                                       (btcPriceHistory['date'] <= endSearch)]\n",
    "            return filtered.iloc[0]['close']"
   ]
  },
  {
   "cell_type": "code",
   "execution_count": 4,
   "id": "3d63cda6",
   "metadata": {},
   "outputs": [],
   "source": [
    "bitcoinEveryDayAccumulator = 0\n",
    "bitcoinEveryWeekAccumulator = 0\n",
    "bitcoinEveryMonthAccumulator = 0\n",
    "\n",
    "btcEveryDayLine = []\n",
    "btcEveryWeekLine = []\n",
    "btcEveryMonthLine = []\n",
    "\n",
    "monthlyBuy = 200\n",
    "\n",
    "years = [2018, 2019, 2020, 2021, 2022]\n",
    "months = range(1, 13)"
   ]
  },
  {
   "cell_type": "code",
   "execution_count": 5,
   "id": "8a90c1f0",
   "metadata": {},
   "outputs": [],
   "source": [
    "for year in years:\n",
    "    if year == 2022:\n",
    "        months = range(1, 11)\n",
    "        \n",
    "    for month in months:\n",
    "        _, days = monthrange(year, month);\n",
    "        weeks = days // 7 + (days % 7 > 0)\n",
    "        firstDayOfMonth = datetime.date(year, month, 1)\n",
    "        \n",
    "        dailyBuy = monthlyBuy / days\n",
    "        weeklyBuy = monthlyBuy / weeks\n",
    "                \n",
    "        for day in range(1, days + 1):\n",
    "            btcPrice = getBtcPrice(year, month, day)\n",
    "            bitcoinEveryDayAccumulator += buyBtc(btcPrice, dailyBuy)\n",
    "            \n",
    "        for week in range(1, weeks + 1):\n",
    "            firstDayOfWeek = (firstDayOfMonth+ datetime.timedelta(days=week*7)).day\n",
    "            btcPrice = getBtcPrice(year, month, firstDayOfWeek)\n",
    "            bitcoinEveryWeekAccumulator += buyBtc(btcPrice, weeklyBuy)\n",
    "        \n",
    "        btcPrice = getBtcPrice(year, month, 5)\n",
    "        bitcoinEveryMonthAccumulator += buyBtc(btcPrice, monthlyBuy)\n",
    "        btcEveryDayLine.append(bitcoinEveryDayAccumulator)\n",
    "        btcEveryWeekLine.append(bitcoinEveryWeekAccumulator)\n",
    "        btcEveryMonthLine.append(bitcoinEveryMonthAccumulator)"
   ]
  },
  {
   "cell_type": "code",
   "execution_count": 6,
   "id": "afe5d406",
   "metadata": {},
   "outputs": [
    {
     "data": {
      "image/png": "[encoded data removed]",
      "text/plain": [
       "<Figure size 640x480 with 1 Axes>"
      ]
     },
     "metadata": {},
     "output_type": "display_data"
    }
   ],
   "source": [
    "plt.plot(np.array(btcEveryDayLine), c='r')\n",
    "plt.plot(np.array(btcEveryWeekLine), c='b')\n",
    "plt.plot(np.array(btcEveryMonthLine),c='g')\n",
    "plt.show()"
   ]
  },
  {
   "cell_type": "code",
   "execution_count": 7,
   "id": "0e07efa2",
   "metadata": {},
   "outputs": [
    {
     "name": "stdout",
     "output_type": "stream",
     "text": [
      "1.102755876573687\n",
      "1.1011919989216712\n",
      "1.0930916722276536\n"
     ]
    }
   ],
   "source": [
    "print(bitcoinEveryDayAccumulator)\n",
    "print(bitcoinEveryWeekAccumulator)\n",
    "print(bitcoinEveryMonthAccumulator)"
   ]
  },
  {
   "cell_type": "code",
   "execution_count": 8,
   "id": "1e022f29",
   "metadata": {},
   "outputs": [
    {
     "name": "stdout",
     "output_type": "stream",
     "text": [
      "Difference between month and daily: -0.0096642 or -1%\n",
      "Difference between month and weekly: -0.00810033 or -1%\n",
      "Difference between daily and weekly: 0.00156388 or 0%\n"
     ]
    }
   ],
   "source": [
    "print(f'Difference between month and daily: {round(bitcoinEveryMonthAccumulator - bitcoinEveryDayAccumulator, 8)}',\n",
    "          f'or {round(((bitcoinEveryMonthAccumulator / bitcoinEveryDayAccumulator)-1)*100)}%')\n",
    "print(f'Difference between month and weekly: {round(bitcoinEveryMonthAccumulator - bitcoinEveryWeekAccumulator, 8)}',\n",
    "          f'or {round(((bitcoinEveryMonthAccumulator / bitcoinEveryWeekAccumulator)-1)*100)}%')\n",
    "print(f'Difference between daily and weekly: {round(bitcoinEveryDayAccumulator - bitcoinEveryWeekAccumulator, 8)}',\n",
    "          f'or {round(((bitcoinEveryDayAccumulator / bitcoinEveryWeekAccumulator)-1)*100)}%')"
   ]
  }
 ],
 "metadata": {
  "kernelspec": {
   "display_name": "Python 3 (ipykernel)",
   "language": "python",
   "name": "python3"
  },
  "language_info": {
   "codemirror_mode": {
    "name": "ipython",
    "version": 3
   },
   "file_extension": ".py",
   "mimetype": "text/x-python",
   "name": "python",
   "nbconvert_exporter": "python",
   "pygments_lexer": "ipython3",
   "version": "3.10.0"
  }
 },
 "nbformat": 4,
 "nbformat_minor": 5
}
